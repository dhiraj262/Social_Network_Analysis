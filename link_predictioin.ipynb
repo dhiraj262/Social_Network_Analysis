{
 "cells": [
  {
   "cell_type": "markdown",
   "metadata": {},
   "source": [
    "# Link Prediction"
   ]
  },
  {
   "cell_type": "markdown",
   "metadata": {},
   "source": [
    "The dataset is subsample of hike link prediction challenge. "
   ]
  },
  {
   "cell_type": "code",
   "execution_count": null,
   "metadata": {},
   "outputs": [],
   "source": [
    "import numpy as np\n",
    "import pandas as pd\n",
    "import networkx as nx\n",
    "import matplotlib.pyplot as plt\n",
    "%matplotlib inline"
   ]
  },
  {
   "cell_type": "code",
   "execution_count": 2,
   "metadata": {},
   "outputs": [],
   "source": [
    "data = pd.read_csv(\"dataset.csv\")"
   ]
  },
  {
   "cell_type": "code",
   "execution_count": 3,
   "metadata": {},
   "outputs": [
    {
     "data": {
      "text/html": [
       "<div>\n",
       "<style scoped>\n",
       "    .dataframe tbody tr th:only-of-type {\n",
       "        vertical-align: middle;\n",
       "    }\n",
       "\n",
       "    .dataframe tbody tr th {\n",
       "        vertical-align: top;\n",
       "    }\n",
       "\n",
       "    .dataframe thead th {\n",
       "        text-align: right;\n",
       "    }\n",
       "</style>\n",
       "<table border=\"1\" class=\"dataframe\">\n",
       "  <thead>\n",
       "    <tr style=\"text-align: right;\">\n",
       "      <th></th>\n",
       "      <th>node1_id</th>\n",
       "      <th>node2_id</th>\n",
       "      <th>is_chat</th>\n",
       "    </tr>\n",
       "  </thead>\n",
       "  <tbody>\n",
       "    <tr>\n",
       "      <th>0</th>\n",
       "      <td>8446602</td>\n",
       "      <td>6636127</td>\n",
       "      <td>0</td>\n",
       "    </tr>\n",
       "    <tr>\n",
       "      <th>1</th>\n",
       "      <td>1430102</td>\n",
       "      <td>7433949</td>\n",
       "      <td>0</td>\n",
       "    </tr>\n",
       "    <tr>\n",
       "      <th>2</th>\n",
       "      <td>2803017</td>\n",
       "      <td>8372333</td>\n",
       "      <td>0</td>\n",
       "    </tr>\n",
       "    <tr>\n",
       "      <th>3</th>\n",
       "      <td>4529348</td>\n",
       "      <td>894645</td>\n",
       "      <td>0</td>\n",
       "    </tr>\n",
       "    <tr>\n",
       "      <th>4</th>\n",
       "      <td>5096572</td>\n",
       "      <td>4211638</td>\n",
       "      <td>0</td>\n",
       "    </tr>\n",
       "  </tbody>\n",
       "</table>\n",
       "</div>"
      ],
      "text/plain": [
       "   node1_id  node2_id  is_chat\n",
       "0   8446602   6636127        0\n",
       "1   1430102   7433949        0\n",
       "2   2803017   8372333        0\n",
       "3   4529348    894645        0\n",
       "4   5096572   4211638        0"
      ]
     },
     "execution_count": 3,
     "metadata": {},
     "output_type": "execute_result"
    }
   ],
   "source": [
    "data.head()"
   ]
  },
  {
   "cell_type": "code",
   "execution_count": 4,
   "metadata": {},
   "outputs": [],
   "source": [
    "def reduce_mem_usage(df, verbose=True):\n",
    "    numerics = ['int16', 'int32', 'int64', 'float16', 'float32', 'float64']\n",
    "    start_mem = df.memory_usage().sum() / 1024**2\n",
    "    for col in df.columns:\n",
    "        col_type = df[col].dtypes\n",
    "        if col_type in numerics:\n",
    "            c_min = df[col].min()\n",
    "            c_max = df[col].max()\n",
    "            if str(col_type)[:3] == 'int':\n",
    "                if c_min > np.iinfo(np.int8).min and c_max < np.iinfo(np.int8).max:\n",
    "                    df[col] = df[col].astype(np.int8)\n",
    "                elif c_min > np.iinfo(np.int16).min and c_max < np.iinfo(np.int16).max:\n",
    "                    df[col] = df[col].astype(np.int16)\n",
    "                elif c_min > np.iinfo(np.int32).min and c_max < np.iinfo(np.int32).max:\n",
    "                    df[col] = df[col].astype(np.int32)\n",
    "                elif c_min > np.iinfo(np.int64).min and c_max < np.iinfo(np.int64).max:\n",
    "                    df[col] = df[col].astype(np.int64)\n",
    "            else:\n",
    "                if c_min > np.finfo(np.float16).min and c_max < np.finfo(np.float16).max:\n",
    "                    df[col] = df[col].astype(np.float16)\n",
    "                elif c_min > np.finfo(np.float32).min and c_max < np.finfo(np.float32).max:\n",
    "                    df[col] = df[col].astype(np.float32)\n",
    "                else:\n",
    "                    df[col] = df[col].astype(np.float64)\n",
    "\n",
    "    end_mem = df.memory_usage().sum() / 1024**2\n",
    "    print('Memory usage after optimization is: {:.2f} MB'.format(end_mem))\n",
    "    print('Decreased by {:.1f}%'.format(100 * (start_mem - end_mem) / start_mem))\n",
    "\n",
    "    return df"
   ]
  },
  {
   "cell_type": "code",
   "execution_count": 5,
   "metadata": {},
   "outputs": [
    {
     "name": "stdout",
     "output_type": "stream",
     "text": [
      "Memory usage after optimization is: 133.98 MB\n",
      "Decreased by 84.8%\n"
     ]
    }
   ],
   "source": [
    "# user feature contains features for the nodes\n",
    "user_features=reduce_mem_usage(pd.read_csv('user_features.csv'))"
   ]
  },
  {
   "cell_type": "code",
   "execution_count": 6,
   "metadata": {},
   "outputs": [],
   "source": [
    "# seperating the features of node1 and node2\n",
    "train_1=pd.merge(data, user_features, how='left', left_on='node1_id', right_on='node_id')\n"
   ]
  },
  {
   "cell_type": "code",
   "execution_count": 7,
   "metadata": {},
   "outputs": [],
   "source": [
    "# merging the node2 features with node1\n",
    "train_2=pd.merge(train_1, user_features, how='left', left_on='node2_id', right_on='node_id')"
   ]
  },
  {
   "cell_type": "code",
   "execution_count": 8,
   "metadata": {},
   "outputs": [
    {
     "data": {
      "text/plain": [
       "Index(['node1_id', 'node2_id', 'is_chat', 'node_id_x', 'f1_x', 'f2_x', 'f3_x',\n",
       "       'f4_x', 'f5_x', 'f6_x', 'f7_x', 'f8_x', 'f9_x', 'f10_x', 'f11_x',\n",
       "       'f12_x', 'f13_x', 'node_id_y', 'f1_y', 'f2_y', 'f3_y', 'f4_y', 'f5_y',\n",
       "       'f6_y', 'f7_y', 'f8_y', 'f9_y', 'f10_y', 'f11_y', 'f12_y', 'f13_y'],\n",
       "      dtype='object')"
      ]
     },
     "execution_count": 8,
     "metadata": {},
     "output_type": "execute_result"
    }
   ],
   "source": [
    "train_2.columns"
   ]
  },
  {
   "cell_type": "code",
   "execution_count": 9,
   "metadata": {},
   "outputs": [
    {
     "data": {
      "text/html": [
       "<div>\n",
       "<style scoped>\n",
       "    .dataframe tbody tr th:only-of-type {\n",
       "        vertical-align: middle;\n",
       "    }\n",
       "\n",
       "    .dataframe tbody tr th {\n",
       "        vertical-align: top;\n",
       "    }\n",
       "\n",
       "    .dataframe thead th {\n",
       "        text-align: right;\n",
       "    }\n",
       "</style>\n",
       "<table border=\"1\" class=\"dataframe\">\n",
       "  <thead>\n",
       "    <tr style=\"text-align: right;\">\n",
       "      <th></th>\n",
       "      <th>node1_id</th>\n",
       "      <th>node2_id</th>\n",
       "      <th>is_chat</th>\n",
       "      <th>node_id_x</th>\n",
       "      <th>f1_x</th>\n",
       "      <th>f2_x</th>\n",
       "      <th>f3_x</th>\n",
       "      <th>f4_x</th>\n",
       "      <th>f5_x</th>\n",
       "      <th>f6_x</th>\n",
       "      <th>...</th>\n",
       "      <th>f4_y</th>\n",
       "      <th>f5_y</th>\n",
       "      <th>f6_y</th>\n",
       "      <th>f7_y</th>\n",
       "      <th>f8_y</th>\n",
       "      <th>f9_y</th>\n",
       "      <th>f10_y</th>\n",
       "      <th>f11_y</th>\n",
       "      <th>f12_y</th>\n",
       "      <th>f13_y</th>\n",
       "    </tr>\n",
       "  </thead>\n",
       "  <tbody>\n",
       "    <tr>\n",
       "      <th>0</th>\n",
       "      <td>8446602</td>\n",
       "      <td>6636127</td>\n",
       "      <td>0</td>\n",
       "      <td>8446602</td>\n",
       "      <td>22</td>\n",
       "      <td>0</td>\n",
       "      <td>0</td>\n",
       "      <td>24</td>\n",
       "      <td>0</td>\n",
       "      <td>0</td>\n",
       "      <td>...</td>\n",
       "      <td>15</td>\n",
       "      <td>11</td>\n",
       "      <td>5</td>\n",
       "      <td>19</td>\n",
       "      <td>12</td>\n",
       "      <td>5</td>\n",
       "      <td>16</td>\n",
       "      <td>10</td>\n",
       "      <td>4</td>\n",
       "      <td>10</td>\n",
       "    </tr>\n",
       "    <tr>\n",
       "      <th>1</th>\n",
       "      <td>1430102</td>\n",
       "      <td>7433949</td>\n",
       "      <td>0</td>\n",
       "      <td>1430102</td>\n",
       "      <td>0</td>\n",
       "      <td>0</td>\n",
       "      <td>0</td>\n",
       "      <td>0</td>\n",
       "      <td>0</td>\n",
       "      <td>0</td>\n",
       "      <td>...</td>\n",
       "      <td>16</td>\n",
       "      <td>13</td>\n",
       "      <td>6</td>\n",
       "      <td>20</td>\n",
       "      <td>16</td>\n",
       "      <td>7</td>\n",
       "      <td>25</td>\n",
       "      <td>21</td>\n",
       "      <td>6</td>\n",
       "      <td>15</td>\n",
       "    </tr>\n",
       "    <tr>\n",
       "      <th>2</th>\n",
       "      <td>2803017</td>\n",
       "      <td>8372333</td>\n",
       "      <td>0</td>\n",
       "      <td>2803017</td>\n",
       "      <td>9</td>\n",
       "      <td>2</td>\n",
       "      <td>0</td>\n",
       "      <td>14</td>\n",
       "      <td>7</td>\n",
       "      <td>1</td>\n",
       "      <td>...</td>\n",
       "      <td>1</td>\n",
       "      <td>1</td>\n",
       "      <td>0</td>\n",
       "      <td>1</td>\n",
       "      <td>1</td>\n",
       "      <td>0</td>\n",
       "      <td>0</td>\n",
       "      <td>0</td>\n",
       "      <td>0</td>\n",
       "      <td>8</td>\n",
       "    </tr>\n",
       "    <tr>\n",
       "      <th>3</th>\n",
       "      <td>4529348</td>\n",
       "      <td>894645</td>\n",
       "      <td>0</td>\n",
       "      <td>4529348</td>\n",
       "      <td>11</td>\n",
       "      <td>11</td>\n",
       "      <td>10</td>\n",
       "      <td>11</td>\n",
       "      <td>10</td>\n",
       "      <td>9</td>\n",
       "      <td>...</td>\n",
       "      <td>1</td>\n",
       "      <td>1</td>\n",
       "      <td>1</td>\n",
       "      <td>1</td>\n",
       "      <td>1</td>\n",
       "      <td>1</td>\n",
       "      <td>1</td>\n",
       "      <td>1</td>\n",
       "      <td>1</td>\n",
       "      <td>15</td>\n",
       "    </tr>\n",
       "    <tr>\n",
       "      <th>4</th>\n",
       "      <td>5096572</td>\n",
       "      <td>4211638</td>\n",
       "      <td>0</td>\n",
       "      <td>5096572</td>\n",
       "      <td>31</td>\n",
       "      <td>31</td>\n",
       "      <td>31</td>\n",
       "      <td>31</td>\n",
       "      <td>31</td>\n",
       "      <td>31</td>\n",
       "      <td>...</td>\n",
       "      <td>7</td>\n",
       "      <td>1</td>\n",
       "      <td>0</td>\n",
       "      <td>9</td>\n",
       "      <td>1</td>\n",
       "      <td>0</td>\n",
       "      <td>16</td>\n",
       "      <td>1</td>\n",
       "      <td>0</td>\n",
       "      <td>7</td>\n",
       "    </tr>\n",
       "  </tbody>\n",
       "</table>\n",
       "<p>5 rows × 31 columns</p>\n",
       "</div>"
      ],
      "text/plain": [
       "   node1_id  node2_id  is_chat  node_id_x  f1_x  f2_x  f3_x  f4_x  f5_x  f6_x  \\\n",
       "0   8446602   6636127        0    8446602    22     0     0    24     0     0   \n",
       "1   1430102   7433949        0    1430102     0     0     0     0     0     0   \n",
       "2   2803017   8372333        0    2803017     9     2     0    14     7     1   \n",
       "3   4529348    894645        0    4529348    11    11    10    11    10     9   \n",
       "4   5096572   4211638        0    5096572    31    31    31    31    31    31   \n",
       "\n",
       "   ...  f4_y  f5_y  f6_y  f7_y  f8_y  f9_y  f10_y  f11_y  f12_y  f13_y  \n",
       "0  ...    15    11     5    19    12     5     16     10      4     10  \n",
       "1  ...    16    13     6    20    16     7     25     21      6     15  \n",
       "2  ...     1     1     0     1     1     0      0      0      0      8  \n",
       "3  ...     1     1     1     1     1     1      1      1      1     15  \n",
       "4  ...     7     1     0     9     1     0     16      1      0      7  \n",
       "\n",
       "[5 rows x 31 columns]"
      ]
     },
     "execution_count": 9,
     "metadata": {},
     "output_type": "execute_result"
    }
   ],
   "source": [
    "train_2.head()"
   ]
  },
  {
   "cell_type": "code",
   "execution_count": 10,
   "metadata": {},
   "outputs": [
    {
     "data": {
      "text/plain": [
       "(169873, 31)"
      ]
     },
     "execution_count": 10,
     "metadata": {},
     "output_type": "execute_result"
    }
   ],
   "source": [
    "train_2.shape"
   ]
  },
  {
   "cell_type": "code",
   "execution_count": 11,
   "metadata": {},
   "outputs": [],
   "source": [
    "df = train_2.drop(['node_id_x','node_id_y'],axis=1)"
   ]
  },
  {
   "cell_type": "code",
   "execution_count": 12,
   "metadata": {},
   "outputs": [
    {
     "data": {
      "text/plain": [
       "Index(['node1_id', 'node2_id', 'is_chat', 'f1_x', 'f2_x', 'f3_x', 'f4_x',\n",
       "       'f5_x', 'f6_x', 'f7_x', 'f8_x', 'f9_x', 'f10_x', 'f11_x', 'f12_x',\n",
       "       'f13_x', 'f1_y', 'f2_y', 'f3_y', 'f4_y', 'f5_y', 'f6_y', 'f7_y', 'f8_y',\n",
       "       'f9_y', 'f10_y', 'f11_y', 'f12_y', 'f13_y'],\n",
       "      dtype='object')"
      ]
     },
     "execution_count": 12,
     "metadata": {},
     "output_type": "execute_result"
    }
   ],
   "source": [
    "df.columns"
   ]
  },
  {
   "cell_type": "code",
   "execution_count": 13,
   "metadata": {},
   "outputs": [
    {
     "data": {
      "text/html": [
       "<div>\n",
       "<style scoped>\n",
       "    .dataframe tbody tr th:only-of-type {\n",
       "        vertical-align: middle;\n",
       "    }\n",
       "\n",
       "    .dataframe tbody tr th {\n",
       "        vertical-align: top;\n",
       "    }\n",
       "\n",
       "    .dataframe thead th {\n",
       "        text-align: right;\n",
       "    }\n",
       "</style>\n",
       "<table border=\"1\" class=\"dataframe\">\n",
       "  <thead>\n",
       "    <tr style=\"text-align: right;\">\n",
       "      <th></th>\n",
       "      <th>node1_id</th>\n",
       "      <th>node2_id</th>\n",
       "      <th>is_chat</th>\n",
       "      <th>f1_x</th>\n",
       "      <th>f2_x</th>\n",
       "      <th>f3_x</th>\n",
       "      <th>f4_x</th>\n",
       "      <th>f5_x</th>\n",
       "      <th>f6_x</th>\n",
       "      <th>f7_x</th>\n",
       "      <th>...</th>\n",
       "      <th>f4_y</th>\n",
       "      <th>f5_y</th>\n",
       "      <th>f6_y</th>\n",
       "      <th>f7_y</th>\n",
       "      <th>f8_y</th>\n",
       "      <th>f9_y</th>\n",
       "      <th>f10_y</th>\n",
       "      <th>f11_y</th>\n",
       "      <th>f12_y</th>\n",
       "      <th>f13_y</th>\n",
       "    </tr>\n",
       "  </thead>\n",
       "  <tbody>\n",
       "    <tr>\n",
       "      <th>count</th>\n",
       "      <td>1.698730e+05</td>\n",
       "      <td>1.698730e+05</td>\n",
       "      <td>169873.000000</td>\n",
       "      <td>169873.000000</td>\n",
       "      <td>169873.000000</td>\n",
       "      <td>169873.000000</td>\n",
       "      <td>169873.000000</td>\n",
       "      <td>169873.000000</td>\n",
       "      <td>169873.000000</td>\n",
       "      <td>169873.000000</td>\n",
       "      <td>...</td>\n",
       "      <td>169873.000000</td>\n",
       "      <td>169873.000000</td>\n",
       "      <td>169873.000000</td>\n",
       "      <td>169873.000000</td>\n",
       "      <td>169873.000000</td>\n",
       "      <td>169873.000000</td>\n",
       "      <td>169873.000000</td>\n",
       "      <td>169873.000000</td>\n",
       "      <td>169873.000000</td>\n",
       "      <td>169873.000000</td>\n",
       "    </tr>\n",
       "    <tr>\n",
       "      <th>mean</th>\n",
       "      <td>4.313621e+06</td>\n",
       "      <td>4.369832e+06</td>\n",
       "      <td>0.025119</td>\n",
       "      <td>19.134436</td>\n",
       "      <td>9.026102</td>\n",
       "      <td>4.591983</td>\n",
       "      <td>19.284018</td>\n",
       "      <td>9.257581</td>\n",
       "      <td>4.747158</td>\n",
       "      <td>19.386571</td>\n",
       "      <td>...</td>\n",
       "      <td>18.396243</td>\n",
       "      <td>8.867489</td>\n",
       "      <td>4.490655</td>\n",
       "      <td>18.519777</td>\n",
       "      <td>9.028633</td>\n",
       "      <td>4.537460</td>\n",
       "      <td>18.656596</td>\n",
       "      <td>9.170845</td>\n",
       "      <td>4.574064</td>\n",
       "      <td>11.344528</td>\n",
       "    </tr>\n",
       "    <tr>\n",
       "      <th>std</th>\n",
       "      <td>2.546109e+06</td>\n",
       "      <td>2.548384e+06</td>\n",
       "      <td>0.156486</td>\n",
       "      <td>13.611182</td>\n",
       "      <td>10.512180</td>\n",
       "      <td>9.039408</td>\n",
       "      <td>13.514690</td>\n",
       "      <td>10.532458</td>\n",
       "      <td>9.071613</td>\n",
       "      <td>13.444646</td>\n",
       "      <td>...</td>\n",
       "      <td>13.738709</td>\n",
       "      <td>10.461747</td>\n",
       "      <td>8.871669</td>\n",
       "      <td>13.667853</td>\n",
       "      <td>10.501237</td>\n",
       "      <td>8.904743</td>\n",
       "      <td>13.590404</td>\n",
       "      <td>10.535492</td>\n",
       "      <td>8.938355</td>\n",
       "      <td>3.941819</td>\n",
       "    </tr>\n",
       "    <tr>\n",
       "      <th>min</th>\n",
       "      <td>2.000000e+01</td>\n",
       "      <td>2.200000e+01</td>\n",
       "      <td>0.000000</td>\n",
       "      <td>0.000000</td>\n",
       "      <td>0.000000</td>\n",
       "      <td>0.000000</td>\n",
       "      <td>0.000000</td>\n",
       "      <td>0.000000</td>\n",
       "      <td>0.000000</td>\n",
       "      <td>0.000000</td>\n",
       "      <td>...</td>\n",
       "      <td>0.000000</td>\n",
       "      <td>0.000000</td>\n",
       "      <td>0.000000</td>\n",
       "      <td>0.000000</td>\n",
       "      <td>0.000000</td>\n",
       "      <td>0.000000</td>\n",
       "      <td>0.000000</td>\n",
       "      <td>0.000000</td>\n",
       "      <td>0.000000</td>\n",
       "      <td>0.000000</td>\n",
       "    </tr>\n",
       "    <tr>\n",
       "      <th>25%</th>\n",
       "      <td>2.126716e+06</td>\n",
       "      <td>2.179073e+06</td>\n",
       "      <td>0.000000</td>\n",
       "      <td>1.000000</td>\n",
       "      <td>0.000000</td>\n",
       "      <td>0.000000</td>\n",
       "      <td>1.000000</td>\n",
       "      <td>0.000000</td>\n",
       "      <td>0.000000</td>\n",
       "      <td>2.000000</td>\n",
       "      <td>...</td>\n",
       "      <td>1.000000</td>\n",
       "      <td>0.000000</td>\n",
       "      <td>0.000000</td>\n",
       "      <td>1.000000</td>\n",
       "      <td>0.000000</td>\n",
       "      <td>0.000000</td>\n",
       "      <td>1.000000</td>\n",
       "      <td>0.000000</td>\n",
       "      <td>0.000000</td>\n",
       "      <td>7.000000</td>\n",
       "    </tr>\n",
       "    <tr>\n",
       "      <th>50%</th>\n",
       "      <td>4.440824e+06</td>\n",
       "      <td>4.445398e+06</td>\n",
       "      <td>0.000000</td>\n",
       "      <td>29.000000</td>\n",
       "      <td>4.000000</td>\n",
       "      <td>0.000000</td>\n",
       "      <td>29.000000</td>\n",
       "      <td>5.000000</td>\n",
       "      <td>0.000000</td>\n",
       "      <td>29.000000</td>\n",
       "      <td>...</td>\n",
       "      <td>27.000000</td>\n",
       "      <td>4.000000</td>\n",
       "      <td>0.000000</td>\n",
       "      <td>27.000000</td>\n",
       "      <td>4.000000</td>\n",
       "      <td>0.000000</td>\n",
       "      <td>27.000000</td>\n",
       "      <td>4.000000</td>\n",
       "      <td>0.000000</td>\n",
       "      <td>15.000000</td>\n",
       "    </tr>\n",
       "    <tr>\n",
       "      <th>75%</th>\n",
       "      <td>6.548247e+06</td>\n",
       "      <td>6.611939e+06</td>\n",
       "      <td>0.000000</td>\n",
       "      <td>31.000000</td>\n",
       "      <td>15.000000</td>\n",
       "      <td>3.000000</td>\n",
       "      <td>31.000000</td>\n",
       "      <td>16.000000</td>\n",
       "      <td>4.000000</td>\n",
       "      <td>31.000000</td>\n",
       "      <td>...</td>\n",
       "      <td>31.000000</td>\n",
       "      <td>15.000000</td>\n",
       "      <td>3.000000</td>\n",
       "      <td>31.000000</td>\n",
       "      <td>15.000000</td>\n",
       "      <td>3.000000</td>\n",
       "      <td>31.000000</td>\n",
       "      <td>16.000000</td>\n",
       "      <td>3.000000</td>\n",
       "      <td>15.000000</td>\n",
       "    </tr>\n",
       "    <tr>\n",
       "      <th>max</th>\n",
       "      <td>8.556069e+06</td>\n",
       "      <td>8.873579e+06</td>\n",
       "      <td>1.000000</td>\n",
       "      <td>31.000000</td>\n",
       "      <td>31.000000</td>\n",
       "      <td>31.000000</td>\n",
       "      <td>31.000000</td>\n",
       "      <td>31.000000</td>\n",
       "      <td>31.000000</td>\n",
       "      <td>31.000000</td>\n",
       "      <td>...</td>\n",
       "      <td>31.000000</td>\n",
       "      <td>31.000000</td>\n",
       "      <td>31.000000</td>\n",
       "      <td>31.000000</td>\n",
       "      <td>31.000000</td>\n",
       "      <td>31.000000</td>\n",
       "      <td>31.000000</td>\n",
       "      <td>31.000000</td>\n",
       "      <td>31.000000</td>\n",
       "      <td>15.000000</td>\n",
       "    </tr>\n",
       "  </tbody>\n",
       "</table>\n",
       "<p>8 rows × 29 columns</p>\n",
       "</div>"
      ],
      "text/plain": [
       "           node1_id      node2_id        is_chat           f1_x  \\\n",
       "count  1.698730e+05  1.698730e+05  169873.000000  169873.000000   \n",
       "mean   4.313621e+06  4.369832e+06       0.025119      19.134436   \n",
       "std    2.546109e+06  2.548384e+06       0.156486      13.611182   \n",
       "min    2.000000e+01  2.200000e+01       0.000000       0.000000   \n",
       "25%    2.126716e+06  2.179073e+06       0.000000       1.000000   \n",
       "50%    4.440824e+06  4.445398e+06       0.000000      29.000000   \n",
       "75%    6.548247e+06  6.611939e+06       0.000000      31.000000   \n",
       "max    8.556069e+06  8.873579e+06       1.000000      31.000000   \n",
       "\n",
       "                f2_x           f3_x           f4_x           f5_x  \\\n",
       "count  169873.000000  169873.000000  169873.000000  169873.000000   \n",
       "mean        9.026102       4.591983      19.284018       9.257581   \n",
       "std        10.512180       9.039408      13.514690      10.532458   \n",
       "min         0.000000       0.000000       0.000000       0.000000   \n",
       "25%         0.000000       0.000000       1.000000       0.000000   \n",
       "50%         4.000000       0.000000      29.000000       5.000000   \n",
       "75%        15.000000       3.000000      31.000000      16.000000   \n",
       "max        31.000000      31.000000      31.000000      31.000000   \n",
       "\n",
       "                f6_x           f7_x  ...           f4_y           f5_y  \\\n",
       "count  169873.000000  169873.000000  ...  169873.000000  169873.000000   \n",
       "mean        4.747158      19.386571  ...      18.396243       8.867489   \n",
       "std         9.071613      13.444646  ...      13.738709      10.461747   \n",
       "min         0.000000       0.000000  ...       0.000000       0.000000   \n",
       "25%         0.000000       2.000000  ...       1.000000       0.000000   \n",
       "50%         0.000000      29.000000  ...      27.000000       4.000000   \n",
       "75%         4.000000      31.000000  ...      31.000000      15.000000   \n",
       "max        31.000000      31.000000  ...      31.000000      31.000000   \n",
       "\n",
       "                f6_y           f7_y           f8_y           f9_y  \\\n",
       "count  169873.000000  169873.000000  169873.000000  169873.000000   \n",
       "mean        4.490655      18.519777       9.028633       4.537460   \n",
       "std         8.871669      13.667853      10.501237       8.904743   \n",
       "min         0.000000       0.000000       0.000000       0.000000   \n",
       "25%         0.000000       1.000000       0.000000       0.000000   \n",
       "50%         0.000000      27.000000       4.000000       0.000000   \n",
       "75%         3.000000      31.000000      15.000000       3.000000   \n",
       "max        31.000000      31.000000      31.000000      31.000000   \n",
       "\n",
       "               f10_y          f11_y          f12_y          f13_y  \n",
       "count  169873.000000  169873.000000  169873.000000  169873.000000  \n",
       "mean       18.656596       9.170845       4.574064      11.344528  \n",
       "std        13.590404      10.535492       8.938355       3.941819  \n",
       "min         0.000000       0.000000       0.000000       0.000000  \n",
       "25%         1.000000       0.000000       0.000000       7.000000  \n",
       "50%        27.000000       4.000000       0.000000      15.000000  \n",
       "75%        31.000000      16.000000       3.000000      15.000000  \n",
       "max        31.000000      31.000000      31.000000      15.000000  \n",
       "\n",
       "[8 rows x 29 columns]"
      ]
     },
     "execution_count": 13,
     "metadata": {},
     "output_type": "execute_result"
    }
   ],
   "source": [
    "df.describe()"
   ]
  },
  {
   "cell_type": "code",
   "execution_count": 19,
   "metadata": {},
   "outputs": [],
   "source": [
    "import seaborn as sns"
   ]
  },
  {
   "cell_type": "code",
   "execution_count": 21,
   "metadata": {},
   "outputs": [
    {
     "data": {
      "text/plain": [
       "<matplotlib.axes._subplots.AxesSubplot at 0x7fdca7d9aeb8>"
      ]
     },
     "execution_count": 21,
     "metadata": {},
     "output_type": "execute_result"
    },
    {
     "data": {
      "image/png": "[encoded data removed]",
      "text/plain": [
       "<Figure size 432x288 with 2 Axes>"
      ]
     },
     "metadata": {
      "needs_background": "light"
     },
     "output_type": "display_data"
    }
   ],
   "source": [
    "sns.heatmap(df.corr(), cmap=\"YlGnBu\")"
   ]
  },
  {
   "cell_type": "markdown",
   "metadata": {},
   "source": [
    "We can see that all most of the columns are crrelated. Dropping unnecessary columns."
   ]
  },
  {
   "cell_type": "code",
   "execution_count": 45,
   "metadata": {},
   "outputs": [],
   "source": [
    "# seperating the columns\n",
    "X = df[['f1_x','f2_x','f3_x','f13_x','f1_y','f2_y','f3_y','f13_y']]"
   ]
  },
  {
   "cell_type": "code",
   "execution_count": 46,
   "metadata": {},
   "outputs": [],
   "source": [
    "# target variable\n",
    "y = df['is_chat']"
   ]
  },
  {
   "cell_type": "code",
   "execution_count": 47,
   "metadata": {},
   "outputs": [],
   "source": [
    "from sklearn.model_selection import StratifiedKFold\n",
    "from sklearn.metrics import roc_curve, auc, accuracy_score\n",
    "from sklearn.model_selection import train_test_split"
   ]
  },
  {
   "cell_type": "code",
   "execution_count": 48,
   "metadata": {},
   "outputs": [],
   "source": [
    "# splitting the dataset into train and test.\n",
    "X_train,X_test,y_train, y_test = train_test_split(X, y ,test_size = .3,shuffle = True)"
   ]
  },
  {
   "cell_type": "code",
   "execution_count": 49,
   "metadata": {},
   "outputs": [],
   "source": [
    "df1 = X_train"
   ]
  },
  {
   "cell_type": "code",
   "execution_count": 50,
   "metadata": {},
   "outputs": [],
   "source": [
    "df2 = X_test"
   ]
  },
  {
   "cell_type": "code",
   "execution_count": 44,
   "metadata": {},
   "outputs": [
    {
     "data": {
      "text/plain": [
       "0.9740787253247518"
      ]
     },
     "execution_count": 44,
     "metadata": {},
     "output_type": "execute_result"
    }
   ],
   "source": [
    "# using gradient boosting classifier .\n",
    "from sklearn.ensemble import GradientBoostingClassifier\n",
    "gb = GradientBoostingClassifier()\n",
    "gb.fit(X_train,y_train)\n",
    "y_pred = gb.predict(X_test)\n",
    "accuracy_score(y_test,y_pred)"
   ]
  },
  {
   "cell_type": "code",
   "execution_count": 64,
   "metadata": {},
   "outputs": [],
   "source": [
    "# defining a grapg for training cases\n",
    "G = nx.Graph()"
   ]
  },
  {
   "cell_type": "code",
   "execution_count": 65,
   "metadata": {},
   "outputs": [
    {
     "name": "stderr",
     "output_type": "stream",
     "text": [
      "/home/dhiraj/anaconda3/lib/python3.7/site-packages/ipykernel_launcher.py:1: SettingWithCopyWarning: \n",
      "A value is trying to be set on a copy of a slice from a DataFrame.\n",
      "Try using .loc[row_indexer,col_indexer] = value instead\n",
      "\n",
      "See the caveats in the documentation: http://pandas.pydata.org/pandas-docs/stable/indexing.html#indexing-view-versus-copy\n",
      "  \"\"\"Entry point for launching an IPython kernel.\n"
     ]
    }
   ],
   "source": [
    "df1['is_chat'] = y_train "
   ]
  },
  {
   "cell_type": "code",
   "execution_count": 66,
   "metadata": {},
   "outputs": [],
   "source": [
    "# adding nodes to the graph\n",
    "G.add_nodes_from(df1['node1_id'])"
   ]
  },
  {
   "cell_type": "code",
   "execution_count": 67,
   "metadata": {},
   "outputs": [],
   "source": [
    "# linking the nodes where is_chat is 1.\n",
    "link = df1[df1['is_chat']==1]"
   ]
  },
  {
   "cell_type": "code",
   "execution_count": 68,
   "metadata": {},
   "outputs": [
    {
     "data": {
      "text/html": [
       "<div>\n",
       "<style scoped>\n",
       "    .dataframe tbody tr th:only-of-type {\n",
       "        vertical-align: middle;\n",
       "    }\n",
       "\n",
       "    .dataframe tbody tr th {\n",
       "        vertical-align: top;\n",
       "    }\n",
       "\n",
       "    .dataframe thead th {\n",
       "        text-align: right;\n",
       "    }\n",
       "</style>\n",
       "<table border=\"1\" class=\"dataframe\">\n",
       "  <thead>\n",
       "    <tr style=\"text-align: right;\">\n",
       "      <th></th>\n",
       "      <th>node1_id</th>\n",
       "      <th>node2_id</th>\n",
       "      <th>f1_x</th>\n",
       "      <th>f2_x</th>\n",
       "      <th>f3_x</th>\n",
       "      <th>f13_x</th>\n",
       "      <th>f1_y</th>\n",
       "      <th>f2_y</th>\n",
       "      <th>f3_y</th>\n",
       "      <th>f13_y</th>\n",
       "      <th>is_chat</th>\n",
       "    </tr>\n",
       "  </thead>\n",
       "  <tbody>\n",
       "    <tr>\n",
       "      <th>166072</th>\n",
       "      <td>3346105</td>\n",
       "      <td>8194189</td>\n",
       "      <td>31</td>\n",
       "      <td>31</td>\n",
       "      <td>31</td>\n",
       "      <td>15</td>\n",
       "      <td>21</td>\n",
       "      <td>21</td>\n",
       "      <td>20</td>\n",
       "      <td>15</td>\n",
       "      <td>1</td>\n",
       "    </tr>\n",
       "    <tr>\n",
       "      <th>166905</th>\n",
       "      <td>4102555</td>\n",
       "      <td>4808610</td>\n",
       "      <td>31</td>\n",
       "      <td>31</td>\n",
       "      <td>19</td>\n",
       "      <td>7</td>\n",
       "      <td>16</td>\n",
       "      <td>14</td>\n",
       "      <td>7</td>\n",
       "      <td>8</td>\n",
       "      <td>1</td>\n",
       "    </tr>\n",
       "    <tr>\n",
       "      <th>165736</th>\n",
       "      <td>8523276</td>\n",
       "      <td>4345274</td>\n",
       "      <td>31</td>\n",
       "      <td>14</td>\n",
       "      <td>3</td>\n",
       "      <td>15</td>\n",
       "      <td>31</td>\n",
       "      <td>6</td>\n",
       "      <td>3</td>\n",
       "      <td>15</td>\n",
       "      <td>1</td>\n",
       "    </tr>\n",
       "    <tr>\n",
       "      <th>167141</th>\n",
       "      <td>2090923</td>\n",
       "      <td>3584586</td>\n",
       "      <td>31</td>\n",
       "      <td>2</td>\n",
       "      <td>0</td>\n",
       "      <td>11</td>\n",
       "      <td>31</td>\n",
       "      <td>28</td>\n",
       "      <td>6</td>\n",
       "      <td>11</td>\n",
       "      <td>1</td>\n",
       "    </tr>\n",
       "    <tr>\n",
       "      <th>169275</th>\n",
       "      <td>3702930</td>\n",
       "      <td>8363796</td>\n",
       "      <td>31</td>\n",
       "      <td>22</td>\n",
       "      <td>2</td>\n",
       "      <td>8</td>\n",
       "      <td>18</td>\n",
       "      <td>18</td>\n",
       "      <td>18</td>\n",
       "      <td>6</td>\n",
       "      <td>1</td>\n",
       "    </tr>\n",
       "  </tbody>\n",
       "</table>\n",
       "</div>"
      ],
      "text/plain": [
       "        node1_id  node2_id  f1_x  f2_x  f3_x  f13_x  f1_y  f2_y  f3_y  f13_y  \\\n",
       "166072   3346105   8194189    31    31    31     15    21    21    20     15   \n",
       "166905   4102555   4808610    31    31    19      7    16    14     7      8   \n",
       "165736   8523276   4345274    31    14     3     15    31     6     3     15   \n",
       "167141   2090923   3584586    31     2     0     11    31    28     6     11   \n",
       "169275   3702930   8363796    31    22     2      8    18    18    18      6   \n",
       "\n",
       "        is_chat  \n",
       "166072        1  \n",
       "166905        1  \n",
       "165736        1  \n",
       "167141        1  \n",
       "169275        1  "
      ]
     },
     "execution_count": 68,
     "metadata": {},
     "output_type": "execute_result"
    }
   ],
   "source": [
    "link.head()"
   ]
  },
  {
   "cell_type": "code",
   "execution_count": 69,
   "metadata": {},
   "outputs": [],
   "source": [
    "# making a tuple of the nodes to pass in the graph.\n",
    "new_df = list(map(lambda x, y:(x,y), link['node1_id'], link['node2_id']))"
   ]
  },
  {
   "cell_type": "code",
   "execution_count": 70,
   "metadata": {},
   "outputs": [],
   "source": [
    "G.add_edges_from(new_df)"
   ]
  },
  {
   "cell_type": "code",
   "execution_count": 71,
   "metadata": {},
   "outputs": [
    {
     "name": "stdout",
     "output_type": "stream",
     "text": [
      "Name: \n",
      "Type: Graph\n",
      "Number of nodes: 118044\n",
      "Number of edges: 2986\n",
      "Average degree:   0.0506\n"
     ]
    }
   ],
   "source": [
    "# information about graph.\n",
    "print(nx.info(G))"
   ]
  },
  {
   "cell_type": "code",
   "execution_count": 73,
   "metadata": {},
   "outputs": [
    {
     "name": "stdout",
     "output_type": "stream",
     "text": [
      "2\n"
     ]
    }
   ],
   "source": [
    "print(G.number_of_selfloops())"
   ]
  },
  {
   "cell_type": "markdown",
   "metadata": {},
   "source": [
    "Other parameters can also be calculated with the help of networkx library."
   ]
  },
  {
   "cell_type": "code",
   "execution_count": null,
   "metadata": {},
   "outputs": [],
   "source": []
  }
 ],
 "metadata": {
  "kernelspec": {
   "display_name": "Python 3",
   "language": "python",
   "name": "python3"
  },
  "language_info": {
   "codemirror_mode": {
    "name": "ipython",
    "version": 3
   },
   "file_extension": ".py",
   "mimetype": "text/x-python",
   "name": "python",
   "nbconvert_exporter": "python",
   "pygments_lexer": "ipython3",
   "version": "3.7.3"
  }
 },
 "nbformat": 4,
 "nbformat_minor": 2
}
